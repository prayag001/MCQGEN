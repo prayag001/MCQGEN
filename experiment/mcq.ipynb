{
 "cells": [
  {
   "cell_type": "code",
   "execution_count": 2,
   "id": "fa270cc2",
   "metadata": {},
   "outputs": [],
   "source": [
    "import os\n",
    "import json\n",
    "import pandas as pd\n",
    "import traceback"
   ]
  },
  {
   "cell_type": "code",
   "execution_count": 3,
   "id": "b901a058",
   "metadata": {},
   "outputs": [],
   "source": [
    "from langchain.chat_models import ChatOpenAI"
   ]
  },
  {
   "cell_type": "code",
   "execution_count": 4,
   "id": "68663719",
   "metadata": {},
   "outputs": [
    {
     "data": {
      "text/plain": [
       "True"
      ]
     },
     "execution_count": 4,
     "metadata": {},
     "output_type": "execute_result"
    }
   ],
   "source": [
    "from dotenv import load_dotenv\n",
    "load_dotenv()"
   ]
  },
  {
   "cell_type": "code",
   "execution_count": 5,
   "id": "ac9d1beb",
   "metadata": {},
   "outputs": [],
   "source": [
    "KEY = os.getenv(\"OPENAI_API_KEY\")"
   ]
  },
  {
   "cell_type": "code",
   "execution_count": 10,
   "id": "6c141640",
   "metadata": {},
   "outputs": [],
   "source": [
    "llm = ChatOpenAI(openai_api_key=KEY, model_name=\"gpt-3.5-turbo\", temperature=0.5)\n"
   ]
  },
  {
   "cell_type": "code",
   "execution_count": null,
   "id": "a409c68a",
   "metadata": {},
   "outputs": [],
   "source": [
    "from langchain.llms import OpenAI\n",
    "from langchain.prompts import PromptTemplate\n",
    "from langchain.chains import LLMChain\n",
    "from langchain.chains import SequentialChain\n",
    "from langchain.callbacks import get_openai_callback\n"
   ]
  },
  {
   "cell_type": "code",
   "execution_count": 43,
   "id": "69bf509c",
   "metadata": {},
   "outputs": [],
   "source": [
    "RESPONSE_JSON = {\n",
    "    \"1\":{\n",
    "        \"mcq\":\"multiple choice questions\",\n",
    "        \"options\":{\n",
    "            \"a\":\"choice here\",\n",
    "            \"b\":\"choice here\",\n",
    "            \"c\":\"choice here\",\n",
    "            \"d\":\"choice here\",\n",
    "        },\n",
    "        \"correct\":\"correct answer\",\n",
    "    },\n",
    "    \"2\":{\n",
    "        \"mcq\":\"multiple choice questions\",\n",
    "        \"options\":{\n",
    "            \"a\":\"choice here\",\n",
    "            \"b\":\"choice here\",\n",
    "            \"c\":\"choice here\",\n",
    "            \"d\":\"choice here\",\n",
    "        },\n",
    "        \"correct\":\"correct answer\",\n",
    "    },\n",
    "    \"3\":{\n",
    "        \"mcq\":\"multiple choice questions\",\n",
    "        \"options\":{\n",
    "            \"a\":\"choice here\",\n",
    "            \"b\":\"choice here\",\n",
    "            \"c\":\"choice here\",\n",
    "            \"d\":\"choice here\",\n",
    "        },\n",
    "        \"correct\":\"correct answer\",\n",
    "    }\n",
    "}"
   ]
  },
  {
   "cell_type": "code",
   "execution_count": 44,
   "id": "2157d9d6",
   "metadata": {},
   "outputs": [],
   "source": [
    "TEMPLATE = \"\"\"\n",
    "Text:{text}\n",
    "You are an expert MCQ maker, Given the above text, it is your job to \\\n",
    "create a qui of {number} multiple choice questions for {subject} students in {tone}.\n",
    "Make sure the questsion are not repeated and check all the questions to be conforming the text as well.\n",
    "Make sure to format you response like RESPONSE_JSON and use it as a guide.\\\n",
    "Ensure to make {number} MCQs\n",
    "###Response JSON\n",
    "{response_json}\n",
    "\"\"\""
   ]
  },
  {
   "cell_type": "code",
   "execution_count": 45,
   "id": "e2f341d4",
   "metadata": {},
   "outputs": [],
   "source": [
    "quiz_generation_prompt = PromptTemplate(\n",
    "    input_variables=[\"text\", \"number\", \"subject\", \"tone\", \"response_json\"],\n",
    "    template=TEMPLATE\n",
    "    )"
   ]
  },
  {
   "cell_type": "code",
   "execution_count": 46,
   "id": "dd028197",
   "metadata": {},
   "outputs": [],
   "source": [
    "quiz_chain = LLMChain(llm=llm, prompt=quiz_generation_prompt, output_key=\"quiz\", verbose=True)"
   ]
  },
  {
   "cell_type": "code",
   "execution_count": 47,
   "id": "4ce96392",
   "metadata": {},
   "outputs": [],
   "source": [
    "TEMPLATE2 = \"\"\"\n",
    "You are an expert English grammar checker and writer. Give a multiple choice quiz for {subject} students.\\\n",
    "You need to evaluate the complexity of the question and give a complate analysis of the quiz. Only use at max 50 words for complexity check. \\\n",
    "If the quiz questions which needs to be changed and change the tone such that it is proper for student abilities. \\\n",
    "Quiz_MCQs:\n",
    "{quiz}\n",
    "\n",
    "Check from an expert English writer of the above quiz:\n",
    "\"\"\"    "
   ]
  },
  {
   "cell_type": "code",
   "execution_count": 48,
   "id": "884a8ffe",
   "metadata": {},
   "outputs": [],
   "source": [
    "quiz_evaluate_prompt = PromptTemplate(\n",
    "    input_variables=[\"subject\", \"quiz\"],\n",
    "    template=TEMPLATE2\n",
    ")"
   ]
  },
  {
   "cell_type": "code",
   "execution_count": 49,
   "id": "0b4cbbaa",
   "metadata": {},
   "outputs": [],
   "source": [
    "review_chain = LLMChain(llm=llm, prompt=quiz_evaluate_prompt, output_key=\"review\", verbose=True)"
   ]
  },
  {
   "cell_type": "code",
   "execution_count": 50,
   "id": "a3a5b834",
   "metadata": {},
   "outputs": [],
   "source": [
    "generate_evaluate_chain = SequentialChain(\n",
    "    chains=[quiz_chain, review_chain],\n",
    "    input_variables=[\"text\", \"number\", \"subject\", \"tone\", \"response_json\"],\n",
    "    output_variables=[\"quiz\", \"review\"],\n",
    "    verbose=True\n",
    ")"
   ]
  },
  {
   "cell_type": "code",
   "execution_count": 51,
   "id": "fa6ea0a1",
   "metadata": {},
   "outputs": [],
   "source": [
    "file_path = \"/Users/prayagsonar/Downloads/Projects/MCQGEN/data.txt\""
   ]
  },
  {
   "cell_type": "code",
   "execution_count": 52,
   "id": "7fefe7b9",
   "metadata": {},
   "outputs": [],
   "source": [
    "with open(file_path, \"r\") as file:\n",
    "    TEXT = file.read()"
   ]
  },
  {
   "cell_type": "code",
   "execution_count": null,
   "id": "931d2c2d",
   "metadata": {},
   "outputs": [],
   "source": [
    "json.dumps(RESPONSE_JSON)"
   ]
  },
  {
   "cell_type": "code",
   "execution_count": 59,
   "id": "df4a3c69",
   "metadata": {},
   "outputs": [],
   "source": [
    "NUMBER=5\n",
    "SUBJECT=\"Generative AI\"\n",
    "TONE=\"Simple\""
   ]
  },
  {
   "cell_type": "code",
   "execution_count": null,
   "id": "2f0682b5",
   "metadata": {},
   "outputs": [],
   "source": [
    "with get_openai_callback() as cb:\n",
    "    response = generate_evaluate_chain(\n",
    "        {\n",
    "        \"text\": TEXT,\n",
    "        \"number\": NUMBER,\n",
    "        \"subject\": SUBJECT,\n",
    "        \"tone\": TONE,\n",
    "        \"response_json\": json.dumps(RESPONSE_JSON)\n",
    "        }\n",
    "    )"
   ]
  },
  {
   "cell_type": "code",
   "execution_count": null,
   "id": "ec89007a",
   "metadata": {},
   "outputs": [],
   "source": [
    "print(f\"Total Tokens: {cb.total_tokens}\")\n",
    "print(f\"Prompt Tokens: {cb.prompt_tokens}\")\n",
    "print(f\"Completion Tokens: {cb.completion_tokens}\")\n",
    "print(f\"Total Cost: ${cb.total_cost:.4f}\")"
   ]
  },
  {
   "cell_type": "code",
   "execution_count": null,
   "id": "2d1e884c",
   "metadata": {},
   "outputs": [],
   "source": [
    "response"
   ]
  },
  {
   "cell_type": "code",
   "execution_count": 93,
   "id": "c260139c",
   "metadata": {},
   "outputs": [],
   "source": [
    "quiz= response.get(\"quiz\")"
   ]
  },
  {
   "cell_type": "code",
   "execution_count": 94,
   "id": "835e2c2f",
   "metadata": {},
   "outputs": [],
   "source": [
    "quiz = quiz"
   ]
  },
  {
   "cell_type": "code",
   "execution_count": 95,
   "id": "84370c7a",
   "metadata": {},
   "outputs": [],
   "source": [
    "import json\n",
    "\n",
    "quiz_table_data=[]\n",
    "quiz_data = json.loads(quiz)\n",
    "for key,value in quiz_data.items():\n",
    "    mcq = value.get(\"mcq\")\n",
    "    options=\" | \".join(\n",
    "        [f\"{option}:{option_value}\" for option, option_value in value.get(\"options\").items()]\n",
    "    )\n",
    "    correct = value[\"correct\"]\n",
    "    quiz_table_data.append({\n",
    "        \"MCQ\": mcq,\n",
    "        \"Options\": options,\n",
    "        \"Correct\": correct\n",
    "    })"
   ]
  },
  {
   "cell_type": "code",
   "execution_count": 96,
   "id": "8d761bd8",
   "metadata": {},
   "outputs": [],
   "source": [
    "quiz = pd.DataFrame(quiz_table_data)"
   ]
  },
  {
   "cell_type": "code",
   "execution_count": 97,
   "id": "dca9a7b0",
   "metadata": {},
   "outputs": [],
   "source": [
    "quiz.to_csv(\"GenerativeAI.csv\", index=False)"
   ]
  }
 ],
 "metadata": {
  "kernelspec": {
   "display_name": "Python 3",
   "language": "python",
   "name": "python3"
  },
  "language_info": {
   "codemirror_mode": {
    "name": "ipython",
    "version": 3
   },
   "file_extension": ".py",
   "mimetype": "text/x-python",
   "name": "python",
   "nbconvert_exporter": "python",
   "pygments_lexer": "ipython3",
   "version": "3.13.2"
  }
 },
 "nbformat": 4,
 "nbformat_minor": 5
}
